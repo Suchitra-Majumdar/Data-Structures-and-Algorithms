{
 "cells": [
  {
   "cell_type": "markdown",
   "metadata": {},
   "source": [
    "Recursion can be a difficult concept to grasp at first, but it's a very rewarding and fun tool once you understand it. Recursion is a method of repeating code without using loops. It usually takes the form of a function that calls itself during its execution.\n",
    "\n",
    "The basic mechanism has given rise to many interesting algorithms. Recursive algorithms often seem lazy when we write them, and can appear magical when they work. It's important to understand recursion so you can think about problems in new ways and write satisfying code that performs logic succinctly.\n",
    "\n",
    "The best way to understand recursion is through an example. One example is the factorial function that exists in mathematics. Here are some examples of the factorial function:"
   ]
  },
  {
   "cell_type": "markdown",
   "metadata": {},
   "source": [
    "3! = 3 * 2 * 1\n",
    "\n",
    "5! = 5 * 4 * 3 * 2 * 1"
   ]
  },
  {
   "cell_type": "markdown",
   "metadata": {},
   "source": [
    "We denote a factorial using the ! sign. For example, n! denotes multiplying n by n - 1, then n - 2, and so on until n-1 equals 1. It stops when n-1 equals 0."
   ]
  },
  {
   "cell_type": "markdown",
   "metadata": {},
   "source": [
    "Upon inspection, we can see a pattern in the factorial function. Let's break down the evaluation of 5!.\n",
    "\n",
    "\n",
    "3! = 3 * 2 * 1\n",
    "\n",
    "5! = 5 * 4 * 3 * 2 * 1\n",
    "\n",
    "5! = 5 * 4 * 3 * 2 * 1 = 5 * (4 * 3 * 2 * 1) = 5 * (4!)"
   ]
  },
  {
   "cell_type": "markdown",
   "metadata": {},
   "source": [
    "We can see that 5! is really 5 * (4!). Let's pretend we already know how to evaluate 4!. Then suddenly, 5! becomes a very easy thing to calculate.\n",
    "\n",
    "But how do we know how to calculate 4!? Well, it's just 4 * (3!).\n",
    "\n",
    "How about 3!? That's just 3 * (2!).\n",
    "\n",
    "This pattern of evaluation continues, and we're never really doing much difficult computation. Notice that with each step of the calculation, we're actually using the factorial function to help us compute a factorial. All we need to know now is where to stop."
   ]
  },
  {
   "cell_type": "code",
   "execution_count": 3,
   "metadata": {},
   "outputs": [],
   "source": [
    "################################################################################"
   ]
  },
  {
   "cell_type": "markdown",
   "metadata": {},
   "source": [
    "The last component we need to define for our recursive function is a \"base case\" that tells it when to stop; otherwise it will keep calling itself forever. In the case of our factorial function, we want to stop at 0, so we'll make that our base case."
   ]
  },
  {
   "cell_type": "markdown",
   "metadata": {},
   "source": [
    "When we call factorial with 0 as its input, we want to simply return 1. This may seem a bit odd, but mathematically, 0! is defined as 1. We don't have to worry much about why this is; we'll just accept the definition and use it in our recursion. 1! still evaluates to 1 * (0!), which is 1.\n",
    "\n",
    "When our input isn't 0, we want to recursively call our function, performing whatever operations are necessary to execute our recursive algorithm properly."
   ]
  },
  {
   "cell_type": "code",
   "execution_count": 5,
   "metadata": {},
   "outputs": [
    {
     "name": "stdout",
     "output_type": "stream",
     "text": [
      "120\n"
     ]
    }
   ],
   "source": [
    "#Recursive factorial function\n",
    "def factorial(n):\n",
    "    if n == 0:\n",
    "        return 1\n",
    "    return n * factorial(n-1)\n",
    "factorial5 = factorial(5)\n",
    "print(factorial5)"
   ]
  },
  {
   "cell_type": "markdown",
   "metadata": {},
   "source": [
    "### Visualization of Recursion"
   ]
  },
  {
   "cell_type": "markdown",
   "metadata": {},
   "source": [
    "So recursion works, but you may not be entirely convinced of how and why it works. To illustrate, we'll use a real-life example of a recursive algorithm.\n",
    "\n",
    "Suppose you're sitting in an auditorium and would like to know which row you're in (let's assume the rows aren't labelled).\n",
    "\n",
    "You could count all of the rows in front of you, but that would take quite a while. This strategy is analogous to the iterative approach (using a loop). You're doing a lot of work. However, you realize there's a way to delegate that work to other people.\n",
    "\n",
    "You ask the person in front of you what row she's in. When she responds, you can simply add one to that row number. That person does the same thing. She asks the person in front of her, and that person asks the person in front of him, and so on.\n",
    "\n",
    "Each of these requests represents a function call. You're the first function call, and the woman in front of you is the next. However, none of the function calls have finished executing yet, since they're still waiting for responses. When the man in the front row is finally asked what row he's in, we've reached our base case. There's nobody ahead of him, so he knows that he's in row one.\n",
    "\n",
    "He responds with that information. The person behind him knows she's in row two, and this information bubbles back up to you, with each person in the chain adding one to the response they receive. This bubbling-up is analogous to reaching the base case, and then each recursive call resolving itself one by one, with the most recently called functions ending first.\n",
    "\n",
    "Finally, the man in front of you tells you his row number, you add one, and you've found your answer! Each function call did very little work, and you still achieved a correct answer."
   ]
  },
  {
   "cell_type": "markdown",
   "metadata": {},
   "source": [
    "### Fibonacci"
   ]
  },
  {
   "cell_type": "markdown",
   "metadata": {},
   "source": [
    "The Fibonacci sequence is a famous series of numbers that starts out as follows:\n",
    "\n",
    "1, 1, 2, 3, 5, 8, 13, 21, 34, 55, ..."
   ]
  },
  {
   "cell_type": "markdown",
   "metadata": {},
   "source": [
    "Each number in the Fibonacci sequence is the sum of the previous two numbers. For instance, 34 in the above sequence is the sum of 13 and 21.\n",
    "\n",
    "The only exceptions are the first two numbers. Because the sequence is too short to calculate them, the first two numbers of the sequence are ones by definition. These two numbers are the base cases for the Fibonacci sequence."
   ]
  },
  {
   "cell_type": "code",
   "execution_count": 19,
   "metadata": {},
   "outputs": [],
   "source": [
    "# Add your function below\n",
    "def fib(n):\n",
    "    if n == 0 or n ==1:\n",
    "        return 1\n",
    "    return fib(n-1) +fib(n-2)\n",
    "fib1 = fib(1)\n",
    "fib5 = fib(5)\n",
    "fib25 = fib(25)"
   ]
  },
  {
   "cell_type": "markdown",
   "metadata": {},
   "source": [
    "### Linked Lists- A Recursive Data Stucture"
   ]
  },
  {
   "cell_type": "code",
   "execution_count": null,
   "metadata": {},
   "outputs": [],
   "source": []
  },
  {
   "cell_type": "code",
   "execution_count": null,
   "metadata": {},
   "outputs": [],
   "source": []
  },
  {
   "cell_type": "code",
   "execution_count": null,
   "metadata": {},
   "outputs": [],
   "source": []
  }
 ],
 "metadata": {
  "kernelspec": {
   "display_name": "Python 3",
   "language": "python",
   "name": "python3"
  },
  "language_info": {
   "codemirror_mode": {
    "name": "ipython",
    "version": 3
   },
   "file_extension": ".py",
   "mimetype": "text/x-python",
   "name": "python",
   "nbconvert_exporter": "python",
   "pygments_lexer": "ipython3",
   "version": "3.7.3"
  }
 },
 "nbformat": 4,
 "nbformat_minor": 2
}
