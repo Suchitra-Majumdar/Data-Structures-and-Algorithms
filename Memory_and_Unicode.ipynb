{
 "cells": [
  {
   "cell_type": "markdown",
   "metadata": {},
   "source": [
    "The file consists of one long string. To use it effectively, we'd need to parse it and convert it into rows and columns. We've covered strings extensively so far, but we haven't covered how a computer stores them.\n",
    "\n",
    "Computers store files on hard drives. A hard drive allows us to save data, turn the computer off, and then access the data again later. The tech community commonly refers to hard drives as magnetic storage, because they store data on magnetic strips.\n",
    "\n",
    "Magnetic strips can only contain a series of two values - up and down. Our entire CSV file saves to a hard drive the same way. We can't directly write strings such as the letter a to a hard disk; we need to convert them to a series of magnetic ups and downs first.\n",
    "\n",
    "We can do this with an encoding system called binary. With binary, the only valid numbers are 0 and 1. This constraint makes it easy to store binary values on a hard disk"
   ]
  },
  {
   "cell_type": "markdown",
   "metadata": {},
   "source": [
    "Computers can't store values like strings or integers directly. Instead, they store information in binary, where the only valid numbers are 0 and 1. This system makes storing data on devices like hard drives possible.\n",
    "\n",
    "However, we normally count in \"base 10.\" We call this system base 10 because there are 10 possible digits - 0 through 9. Binary is base two, because there are only two possible digits - 0 and 1.\n",
    "\n",
    "To work with binary in Python, we need to enter it as a string. If we enter something like b = 10 directly, for example, Python will assume that it's a base 10 integer (rather than binary). Instead, we would need to put quotes around it to enter it as a string before working with it further."
   ]
  },
  {
   "cell_type": "code",
   "execution_count": 4,
   "metadata": {},
   "outputs": [
    {
     "name": "stdout",
     "output_type": "stream",
     "text": [
      "2\n"
     ]
    },
    {
     "data": {
      "text/plain": [
       "4"
      ]
     },
     "execution_count": 4,
     "metadata": {},
     "output_type": "execute_result"
    }
   ],
   "source": [
    "# Let's say b is a binary number.  In python, we have to store binary numbers as strings.\n",
    "# If we try to enter it directly as b = 10, Python will assume it's a base 10 integer.\n",
    "b = \"10\"\n",
    "\n",
    "# Now, we can convert b from a string to a binary number with the int function. We'll need to set the optional second argument, base, to 2 (binary is base two).\n",
    "print(int(b, 2))\n",
    "int(\"100\",2)"
   ]
  },
  {
   "cell_type": "markdown",
   "metadata": {},
   "source": [
    "Computers store strings in binary, just like they do with integers. First, they split them into single characters, then convert those characters to integers. Finally, they convert those integers to binary and store them."
   ]
  },
  {
   "cell_type": "code",
   "execution_count": 6,
   "metadata": {},
   "outputs": [],
   "source": [
    "# We can use the ord() function to get the integer for an ASCII character.\n",
    "ord('a')\n",
    "\n",
    "# Then, we use the bin() function to convert to binary.\n",
    "# The bin function adds \"0b\" to the beginning of a string to indicate that it contains binary values.\n",
    "bin(ord('a'))\n",
    "\n",
    "# ÿ is the \"last\" ASCII character; it has the highest integer value of any ASCII character.\n",
    "# This is because 255 is the highest value we can represent with eight binary digits.\n",
    "ord('ÿ')\n",
    "# As you can see, we get eight 1's, which shows that this is the highest possible eight-digit value.\n",
    "bin(ord('ÿ'))\n",
    "\n",
    "# Why is this?  Because a single binary digit is called a bit, and computers store values in sequences of eight bits (i.e., a byte).\n",
    "# You might be more familiar with kilobytes or megabytes. A kilobyte is 1000 bytes, and a megabyte is 1000 kilobytes.\n",
    "# There are 256 different ASCII symbols, because the largest amount of storage any single ASCII character can take up is one byte.\n",
    "binary_w = bin(ord(\"w\"))\n",
    "binary_bracket = bin(ord(\"}\"))              "
   ]
  },
  {
   "cell_type": "markdown",
   "metadata": {},
   "source": [
    "Unicode assigns \"code points\" to characters. In Python, code points look like this:\n",
    "\n",
    "\"\\u3232\"\n",
    "\n",
    "We can use an encoding system to convert these code points to binary integers. The most common encoding system for Unicode is UTF-8. This encoding tells a computer which code points are associated with which integers.\n",
    "\n",
    "UTF-8 can encode values that are longer that one byte, which enables it to store all Unicode characters. It encodes characters using a variable number of bytes, which means that it also supports regular ASCII characters (which are one byte each)."
   ]
  },
  {
   "cell_type": "code",
   "execution_count": 7,
   "metadata": {},
   "outputs": [
    {
     "name": "stdout",
     "output_type": "stream",
     "text": [
      "⟶\n",
      "10230\n",
      "0b10011111110110\n"
     ]
    }
   ],
   "source": [
    "# We can initialize Unicode code points (the value for this code point is \\u27F6, but you see it as a character here because the Dataquest system is automatically converting it).\n",
    "code_point = \"⟶\"\n",
    "\n",
    "# This particular code point maps to a right arrow character.\n",
    "print(code_point)\n",
    "\n",
    "# We can get the base 10 integer value of the code point with the ord function.\n",
    "print(ord(code_point))\n",
    "\n",
    "# As you can see, this takes up a lot more than 1 byte.\n",
    "print(bin(ord(code_point)))\n",
    "binary_1019 = bin(ord(\"\\u1019\"))\n"
   ]
  },
  {
   "cell_type": "markdown",
   "metadata": {},
   "source": [
    "ASCII is a subset of Unicode. Unicode implements all of the ASCII characters, as well as the additional characters that code points allow.\n",
    "\n",
    "This lets us create Unicode strings that combine both ASCII and Unicode characters.\n",
    "\n",
    "By default, Python 3 uses Unicode for all strings, and encodes them with UTF-8. That means we can enter the Unicode code points or the actual characters."
   ]
  },
  {
   "cell_type": "markdown",
   "metadata": {},
   "source": [
    "Python includes a data type called \"bytes.\" It's similar to a string, except that it contains encoded bytes values.\n",
    "\n",
    "When we create an object with a bytes type from a string, we specify an encoding system (usually UTF-8).\n",
    "\n",
    "Then, we can use the .encode() method to encode the string into bytes."
   ]
  },
  {
   "cell_type": "code",
   "execution_count": 8,
   "metadata": {},
   "outputs": [
    {
     "name": "stdout",
     "output_type": "stream",
     "text": [
      "Clark Kent␦\n"
     ]
    }
   ],
   "source": [
    "# We can make a string with some Unicode values\n",
    "superman = \"Clark Kent␦\"\n",
    "print(superman)\n",
    "\n",
    "# This tells Python to encode the string superman as Unicode using the UTF-8 encoding system\n",
    "# We end up with a sequence of bytes instead of a string\n",
    "superman_bytes = \"Clark Kent␦\".encode(\"utf-8\")\n",
    "\n",
    "batman = \"Bruce Wayne␦\"\n",
    "batman_bytes = batman.encode(\"utf-8\")"
   ]
  },
  {
   "cell_type": "markdown",
   "metadata": {},
   "source": [
    "batman_bytes from the last screen prints out as Bruce Wayne\\xe2\\x90\\xa6. Similar to the \\u prefix for a Unicode code point, \\x is the prefix for a hexadecimal character.\n",
    "\n",
    "Just like binary is base 2 and our normal counting system is base 10, hexadecimal is base 16. The valid digits in hexadecimal are 0-9 and A-F. Here are the values corresponding to each character:\n",
    "\n",
    "A - 10\n",
    "B - 11\n",
    "C - 12\n",
    "D - 13\n",
    "E - 14\n",
    "F - 15\n",
    "In hexadecimal, 9 + 1 equals A. We use hexadecimal because it represents a byte efficiently. You may recall that a byte is eight bits, or eight binary digits. The highest value we can express in a byte is 11111111, or 255 in base 10. We can express the same value in two hexadecimal digits, FF.\n",
    "\n",
    "Programmers often use hexadecimal to display bytes instead of binary because it's more compact and easier to write out."
   ]
  },
  {
   "cell_type": "markdown",
   "metadata": {},
   "source": [
    "batman_bytes from the last screen prints out as Bruce Wayne\\xe2\\x90\\xa6. Similar to the \\u prefix for a Unicode code point, \\x is the prefix for a hexadecimal character.\n",
    "\n",
    "Just like binary is base 2 and our normal counting system is base 10, hexadecimal is base 16. The valid digits in hexadecimal are 0-9 and A-F. Here are the values corresponding to each character:\n",
    "\n",
    "A - 10\n",
    "B - 11\n",
    "C - 12\n",
    "D - 13\n",
    "E - 14\n",
    "F - 15\n",
    "In hexadecimal, 9 + 1 equals A. We use hexadecimal because it represents a byte efficiently. You may recall that a byte is eight bits, or eight binary digits. The highest value we can express in a byte is 11111111, or 255 in base 10. We can express the same value in two hexadecimal digits, FF.\n",
    "\n",
    "Programmers often use hexadecimal to display bytes instead of binary because it's more compact and easier to write out.\n"
   ]
  },
  {
   "cell_type": "code",
   "execution_count": 9,
   "metadata": {},
   "outputs": [
    {
     "name": "stdout",
     "output_type": "stream",
     "text": [
      "226\n",
      "226\n",
      "0b11100010\n"
     ]
    }
   ],
   "source": [
    "# One byte (eight bits) in hexadecimal (the value of the byte below is \\xe2)\n",
    "hex_byte = \"â\"\n",
    "\n",
    "# Print the base 10 integer value for the hexadecimal byte\n",
    "print(ord(hex_byte))\n",
    "\n",
    "# This gives the exact same value. Remember that \\x is just a prefix, and doesn't affect the value.\n",
    "print(int(\"e2\", 16))\n",
    "\n",
    "# Convert the base 10 integer to binary\n",
    "print(bin(ord(\"â\"))) \n",
    "binary_aa = bin(ord(\"\\xaa\"))\n",
    "binary_ab = bin(ord(\"\\xab\"))\n"
   ]
  },
  {
   "cell_type": "code",
   "execution_count": 11,
   "metadata": {},
   "outputs": [
    {
     "name": "stdout",
     "output_type": "stream",
     "text": [
      "Counter({'apple': 3, 'orange': 2, 'banana': 1, 'pear': 1, 'grape': 1})\n"
     ]
    }
   ],
   "source": [
    "from collections import Counter\n",
    "fruits = [\"apple\", \"apple\", \"banana\", \"orange\", \"pear\", \"orange\", \"apple\", \"grape\"]\n",
    "fruit_count = Counter(fruits)\n",
    "print(fruit_count)\n",
    "Counter()"
   ]
  },
  {
   "cell_type": "code",
   "execution_count": 12,
   "metadata": {},
   "outputs": [
    {
     "name": "stdout",
     "output_type": "stream",
     "text": [
      "Counter({'apple': 3, 'orange': 2, 'banana': 1, 'pear': 1, 'grape': 1})\n"
     ]
    },
    {
     "ename": "NameError",
     "evalue": "name 'filtered_tokens' is not defined",
     "output_type": "error",
     "traceback": [
      "\u001b[1;31m---------------------------------------------------------------------------\u001b[0m",
      "\u001b[1;31mNameError\u001b[0m                                 Traceback (most recent call last)",
      "\u001b[1;32m<ipython-input-12-6326d7ebe2ab>\u001b[0m in \u001b[0;36m<module>\u001b[1;34m\u001b[0m\n\u001b[0;32m      7\u001b[0m \u001b[1;33m\u001b[0m\u001b[0m\n\u001b[0;32m      8\u001b[0m \u001b[1;31m# filtered_tokens has been loaded in\u001b[0m\u001b[1;33m\u001b[0m\u001b[1;33m\u001b[0m\u001b[1;33m\u001b[0m\u001b[0m\n\u001b[1;32m----> 9\u001b[1;33m \u001b[0mfiltered_token_counts\u001b[0m \u001b[1;33m=\u001b[0m \u001b[0mCounter\u001b[0m\u001b[1;33m(\u001b[0m\u001b[0mfiltered_tokens\u001b[0m\u001b[1;33m)\u001b[0m\u001b[1;33m\u001b[0m\u001b[1;33m\u001b[0m\u001b[0m\n\u001b[0m",
      "\u001b[1;31mNameError\u001b[0m: name 'filtered_tokens' is not defined"
     ]
    }
   ],
   "source": [
    "from collections import Counter\n",
    "fruits = [\"apple\", \"apple\", \"banana\", \"orange\", \"pear\", \"orange\", \"apple\", \"grape\"]\n",
    "fruit_count = Counter(fruits)\n",
    "\n",
    "# Our code has counted each of the items in the list, and given them dictionary keys\n",
    "print(fruit_count)\n",
    "\n",
    "# filtered_tokens has been loaded in\n",
    "filtered_token_counts = Counter(filtered_tokens)"
   ]
  },
  {
   "cell_type": "markdown",
   "metadata": {},
   "source": [
    "Converting a number to binary:\n",
    "\n",
    "int(\"100\", 2)\n",
    "\n",
    "Encoding a string into bytes:\n",
    "\n",
    "batman.encode(\"utf-8\")\n",
    "\n",
    "Converting a string of length one to a Unicode code point:\n",
    "\n",
    "ord(\"a\")\n",
    "\n",
    "Converting integer to binary string:\n",
    "\n",
    "bin(100)\n",
    "\n",
    "Decoding a bytes object into a string:\n",
    "\n",
    "morgan_freeman.decode()\n",
    "\n",
    "Counting how many times a string occurs in a list:\n",
    "\n",
    "from collections import Counter\n",
    "fruits = [\"apple\", \"apple\", \"banana\", \"orange\"]\n",
    "fruit_count = Counter(fruits)\n",
    "\n"
   ]
  },
  {
   "cell_type": "code",
   "execution_count": null,
   "metadata": {},
   "outputs": [],
   "source": []
  }
 ],
 "metadata": {
  "kernelspec": {
   "display_name": "Python 3",
   "language": "python",
   "name": "python3"
  },
  "language_info": {
   "codemirror_mode": {
    "name": "ipython",
    "version": 3
   },
   "file_extension": ".py",
   "mimetype": "text/x-python",
   "name": "python",
   "nbconvert_exporter": "python",
   "pygments_lexer": "ipython3",
   "version": "3.7.3"
  }
 },
 "nbformat": 4,
 "nbformat_minor": 2
}
